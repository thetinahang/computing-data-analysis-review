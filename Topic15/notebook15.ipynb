{
 "cells": [
  {
   "cell_type": "markdown",
   "metadata": {
    "collapsed": true
   },
   "source": [
    "## Compression via the PCA and the SVD\n",
    "The main topic of this lesson is a data analysis method referred to as <i>Principal Components Analysis (PCA)</i>. The method requires computing the eigenvectors of a certain matrix; one way to compute those eigenvectors is to use a special factorization from linear algebra called the <i>Singular Value Decomposition (SVD)</i>.<br>\n",
    "\n",
    "This notebook is simply a collection of notes with a little bit of code to help illustrate the main ideas. It does not have any exercises that you need to submit. However, you should try to understand all the code steps that appear in the subsection entitled, __Principal Components Analysis (PCA)__, as you will need to apply the SVD in a subsequent part of this assignment.<br>\n",
    "\n",
    "__Motivation: data \"compression.\"__ In previous lessons, we've looked at a few of the major tasks in data analysis: <i>ranking, regression, classification, and clustering</i>. Beyond these, the last problem you'll consider in our class is what we'll call <i>compression</i>.<br>\n",
    "\n",
    "At a high level, the term compression simply refers to finding any compact representation of the data. Such representations can help us in two ways. First, it can make the data set smaller and therefore faster to process or analyze. Secondly, choosing a clever representation can reveal hidden structure.<br>\n",
    "\n",
    "As a concrete example, consider the problem of <i>dimensionality reduction</i>: given a $d$-dimensional data set, we wish to transform it into a smaller $k$-dimensional data set where $k≤d$.<br>\n",
    "\n",
    "Choosing the $k$ dimensions in a clever way might even reveal structure that is hard to see in all $d$ original dimensions. For instance, look at the examples at the \"visualizing PCA\" website:<br>\n",
    "http://setosa.io/ev/principal-component-analysis/"
   ]
  },
  {
   "cell_type": "markdown",
   "metadata": {
    "collapsed": true
   },
   "source": [
    "## Data: Nutrition in the UK\n",
    "Here is one of those examples, which is nutritional data gathered in a study of four countries of the United Kingdom. (Researchers tabulated the average number of grams consumed per week by an individual living in a particular country, broken down along various food and drink categories.)"
   ]
  },
  {
   "cell_type": "code",
   "execution_count": 1,
   "metadata": {
    "collapsed": true
   },
   "outputs": [],
   "source": [
    "import numpy as np\n",
    "import pandas as pd\n",
    "import seaborn as sns\n",
    "import matplotlib.pyplot as plt\n",
    "from IPython.display import display\n",
    "\n",
    "%matplotlib inline"
   ]
  },
  {
   "cell_type": "code",
   "execution_count": 2,
   "metadata": {},
   "outputs": [
    {
     "name": "stdout",
     "output_type": "stream",
     "text": [
      "'uk-nutrition-data.csv' is ready!\n",
      "\n",
      "(All data appears to be ready.)\n"
     ]
    }
   ],
   "source": [
    "import requests\n",
    "import os\n",
    "import hashlib\n",
    "import io\n",
    "\n",
    "def on_vocareum():\n",
    "    return os.path.exists('.voc')\n",
    "\n",
    "def download(file, local_dir=\"\", url_base=None, checksum=None):\n",
    "    local_file = \"{}{}\".format(local_dir, file)\n",
    "    if not os.path.exists(local_file):\n",
    "        if url_base is None:\n",
    "            url_base = \"https://cse6040.gatech.edu/datasets/\"\n",
    "        url = \"{}{}\".format(url_base, file)\n",
    "        print(\"Downloading: {} ...\".format(url))\n",
    "        r = requests.get(url)\n",
    "        with open(local_file, 'wb') as f:\n",
    "            f.write(r.content)\n",
    "            \n",
    "    if checksum is not None:\n",
    "        with io.open(local_file, 'rb') as f:\n",
    "            body = f.read()\n",
    "            body_checksum = hashlib.md5(body).hexdigest()\n",
    "            assert body_checksum == checksum, \\\n",
    "                \"Downloaded file '{}' has incorrect checksum: '{}' instead of '{}'\".format(local_file,\n",
    "                                                                                           body_checksum,\n",
    "                                                                                           checksum)\n",
    "    print(\"'{}' is ready!\".format(file))\n",
    "    \n",
    "if on_vocareum():\n",
    "    URL_BASE = \"https://cse6040.gatech.edu/datasets/uk-food/\"\n",
    "    DATA_PATH = \"../resource/lib/publicdata/uk-food/\"\n",
    "else:\n",
    "    URL_BASE = \"https://github.com/cse6040/labs-fa17/raw/master/datasets/uk-food/\"\n",
    "    DATA_PATH = \"\"\n",
    "\n",
    "datasets = {'uk-nutrition-data.csv': 'a6cdc2fb658bacfdf50797c625aa3815'}\n",
    "\n",
    "for filename, checksum in datasets.items():\n",
    "    download(filename, local_dir=DATA_PATH, url_base=URL_BASE, checksum=checksum)\n",
    "    \n",
    "print(\"\\n(All data appears to be ready.)\")"
   ]
  },
  {
   "cell_type": "code",
   "execution_count": 3,
   "metadata": {},
   "outputs": [
    {
     "name": "stdout",
     "output_type": "stream",
     "text": [
      "17 x 5 table of data:\n"
     ]
    },
    {
     "data": {
      "text/html": [
       "<div>\n",
       "<style>\n",
       "    .dataframe thead tr:only-child th {\n",
       "        text-align: right;\n",
       "    }\n",
       "\n",
       "    .dataframe thead th {\n",
       "        text-align: left;\n",
       "    }\n",
       "\n",
       "    .dataframe tbody tr th {\n",
       "        vertical-align: top;\n",
       "    }\n",
       "</style>\n",
       "<table border=\"1\" class=\"dataframe\">\n",
       "  <thead>\n",
       "    <tr style=\"text-align: right;\">\n",
       "      <th></th>\n",
       "      <th>Product</th>\n",
       "      <th>England</th>\n",
       "      <th>Northern Ireland</th>\n",
       "      <th>Scotland</th>\n",
       "      <th>Wales</th>\n",
       "    </tr>\n",
       "  </thead>\n",
       "  <tbody>\n",
       "    <tr>\n",
       "      <th>0</th>\n",
       "      <td>Alcoholic drinks</td>\n",
       "      <td>375</td>\n",
       "      <td>135</td>\n",
       "      <td>458</td>\n",
       "      <td>475</td>\n",
       "    </tr>\n",
       "    <tr>\n",
       "      <th>1</th>\n",
       "      <td>Beverages</td>\n",
       "      <td>57</td>\n",
       "      <td>47</td>\n",
       "      <td>53</td>\n",
       "      <td>73</td>\n",
       "    </tr>\n",
       "    <tr>\n",
       "      <th>2</th>\n",
       "      <td>Meat</td>\n",
       "      <td>245</td>\n",
       "      <td>267</td>\n",
       "      <td>242</td>\n",
       "      <td>227</td>\n",
       "    </tr>\n",
       "    <tr>\n",
       "      <th>3</th>\n",
       "      <td>Cereals</td>\n",
       "      <td>1472</td>\n",
       "      <td>1494</td>\n",
       "      <td>1462</td>\n",
       "      <td>1582</td>\n",
       "    </tr>\n",
       "    <tr>\n",
       "      <th>4</th>\n",
       "      <td>Cheese</td>\n",
       "      <td>105</td>\n",
       "      <td>66</td>\n",
       "      <td>103</td>\n",
       "      <td>103</td>\n",
       "    </tr>\n",
       "  </tbody>\n",
       "</table>\n",
       "</div>"
      ],
      "text/plain": [
       "            Product  England  Northern Ireland  Scotland  Wales\n",
       "0  Alcoholic drinks      375               135       458    475\n",
       "1         Beverages       57                47        53     73\n",
       "2              Meat      245               267       242    227\n",
       "3           Cereals     1472              1494      1462   1582\n",
       "4            Cheese      105                66       103    103"
      ]
     },
     "metadata": {},
     "output_type": "display_data"
    },
    {
     "name": "stdout",
     "output_type": "stream",
     "text": [
      "...\n"
     ]
    },
    {
     "data": {
      "text/plain": [
       "Text(0.5,0.98,'Grams per week per person')"
      ]
     },
     "execution_count": 3,
     "metadata": {},
     "output_type": "execute_result"
    },
    {
     "data": {
      "image/png": "[encoded data removed]",
      "text/plain": [
       "<matplotlib.figure.Figure at 0x1a16fad0f0>"
      ]
     },
     "metadata": {},
     "output_type": "display_data"
    }
   ],
   "source": [
    "df_uk = pd.read_csv('{}uk-nutrition-data.csv'.format(DATA_PATH))\n",
    "print(\"{} x {} table of data:\".format(df_uk.shape[0], df_uk.shape[1]))\n",
    "display(df_uk.head ())\n",
    "print(\"...\")\n",
    "\n",
    "fig, axes = plt.subplots(1, 4, figsize=(12, 6), sharey=True)\n",
    "countries = df_uk.columns.difference(['Product'])\n",
    "for i in range(len(countries)):\n",
    "    sns.barplot(x=countries[i], y='Product', data=df_uk, ax=axes[i])\n",
    "    axes[i].set_ylabel(\"\")\n",
    "fig.suptitle(\"Grams per week per person\")"
   ]
  },
  {
   "cell_type": "markdown",
   "metadata": {
    "collapsed": true
   },
   "source": [
    "Do the countries differ in any significant way? Looking only at the bar charts, it is probably hard to tell unless you are very perceptive, and in any case, visual inspection is a very <i>ad hoc</i> technique. Is there a more systematic way?"
   ]
  },
  {
   "cell_type": "markdown",
   "metadata": {
    "collapsed": true
   },
   "source": [
    "## Principal components analysis (PCA)\n",
    "The method of <i>principal components analysis</i> (PCA) is one such technique. For this example, it would start by viewing these data as four (4) data points, one for each country, embedded in a 17-dimensional space (one dimension per food category). The following page will help build your intuition for PCA; the notes that then follow below show formally how PCA works and derives an algorithm to compute it.\n",
    "\n",
    "http://setosa.io/ev/principal-component-analysis/"
   ]
  },
  {
   "cell_type": "markdown",
   "metadata": {
    "collapsed": true
   },
   "source": [
    "## Basic definitions\n",
    "__Input data matrix, centered.__ Per our usual conventions, let $x̂ 0,…,x̂ m−1$ be the $m$ data points, where each $xi∈ℝd$ is a single observation. Each observation is represented by a $d$-dimensional real-valued vector corresponding to $d$ measured predictors. As usual, we can stack these into a data matrix, denoted $X≡⎛⎝⎜⎜⎜x̂ T0⋮x̂ Tm−1⎞⎠⎟⎟⎟$.\n",
    "\n",
    "However, we'll add one more important assumption: these data should be centered about their mean, i.e., $1m∑m−1i=0x̂ i=0$. If the observations are not centered initially, then preprocess them accordingly.\n",
    "\n",
    "__Projections.__ Let $φ∈ℝd$ be a vector of unit length, i.e., $‖φ‖22=φTφ=1$. The projection of a data point $x̂ i$ onto $φ$ is $x̂ Tiφ$, which measures the length of the projected vector.\n",
    "\n",
    "The following code cell illustrates a projection. Given a vector <code>x_hat</code> and a line represented by a unit vector <code>phi</code>, it computes the projection  <code>x_hat_proj_phi</code> of <code>x_hat</code> onto <code>phi</code>."
   ]
  },
  {
   "cell_type": "code",
   "execution_count": 4,
   "metadata": {
    "collapsed": true
   },
   "outputs": [],
   "source": [
    "# Define a projection\n",
    "x_hat = np.array([0.25, 0.75]) # Vector to project\n",
    "phi = np.array([0.5, 0.25]) ; phi = phi / np.linalg.norm(phi) # Unit vector onto which to project x_hat\n",
    "x_hat_proj_phi = x_hat.T.dot(phi) * phi # Carry out the projection"
   ]
  },
  {
   "cell_type": "code",
   "execution_count": 5,
   "metadata": {},
   "outputs": [
    {
     "data": {
      "image/png": "[encoded data removed]",
      "text/plain": [
       "<matplotlib.figure.Figure at 0x1a1f6e3908>"
      ]
     },
     "metadata": {},
     "output_type": "display_data"
    },
    {
     "name": "stdout",
     "output_type": "stream",
     "text": [
      "* Black arrow: `phi` (len=1.000)\n",
      "* Blue arrow: `x_hat` (len=0.791)\n",
      "* Red arrow: projection of `x_hat` onto `phi` (len=0.559)\n"
     ]
    }
   ],
   "source": [
    "# Visualize the projection (you don't need to understand this code cell in any detail)\n",
    "import matplotlib.lines as mlines\n",
    "\n",
    "plt.figure(figsize=(3, 3))\n",
    "ax = plt.axes()\n",
    "ax.arrow(0, 0, x_hat[0], x_hat[1], head_width=0.05, head_length=0.05, fc='b', ec='b', length_includes_head=True)\n",
    "ax.arrow(0, 0, phi[0], phi[1], head_width=0.05, head_length=0.05, fc='k', ec='k', length_includes_head=True)\n",
    "ax.arrow(0, 0, x_hat_proj_phi[0], x_hat_proj_phi[1], head_width=0.025, head_length=0.025, fc='r', ec='r', length_includes_head=True)\n",
    "\n",
    "perp_line = mlines.Line2D([x_hat[0], x_hat_proj_phi[0]],\n",
    "                          [x_hat[1], x_hat_proj_phi[1]],\n",
    "                          linestyle='--', color='k')\n",
    "ax.add_line(perp_line)\n",
    "ax.axis('equal') # Equal ratios, so you can tell what is perpendicular to what\n",
    "ax.axis([0, 1, 0, 1])\n",
    "\n",
    "dx, dy = 0.02, 0.02\n",
    "plt.annotate('x_hat', xy=(x_hat[0]+dx, x_hat[1]+dy), color='b')\n",
    "plt.annotate('phi', xy=(phi[0]+dx, phi[1]+dy), color='k')\n",
    "plt.annotate('projection', xy=(x_hat_proj_phi[0]+dx, x_hat_proj_phi[1]+dy), color='r')\n",
    "\n",
    "plt.show()\n",
    "\n",
    "msg = \"\"\"* Black arrow: `phi` (len={:.3f})\n",
    "* Blue arrow: `x_hat` (len={:.3f})\n",
    "* Red arrow: projection of `x_hat` onto `phi` (len={:.3f})\"\"\"\n",
    "print(msg.format(np.linalg.norm(phi),\n",
    "                 np.linalg.norm(x_hat),\n",
    "                 np.linalg.norm(x_hat_proj_phi)))"
   ]
  },
  {
   "cell_type": "markdown",
   "metadata": {
    "collapsed": true
   },
   "source": [
    "## Maximizing projections\n",
    "If the length of a projected data point is large, then intuitively, we have \"preserved\" its shape. So let's think of the total length of projections of all the data points as a measure of cost, which we can then try to maximmize.\n",
    "\n",
    "__Projection cost.__ Let $J(φ)$ be a cost function that is proportional to the mean squared projections of the data onto $φ$:\n",
    "\n",
    "$J(ϕ)≡12m∑i=0m−1(x̂ Tiφ)2$.\n",
    " \n",
    "The additional factor of \"1/2\" is for aesthetic reasons. (It cancels out later on.)\n",
    "\n",
    "Let's also apply some algebra-fu to the right-hand side to put it into a more concise matrix form:\n",
    "\n",
    "$J(ϕ)==≡12φT(1m∑i=0m−1x̂ ix̂ Ti)φ12φT(1mXTX)φ12φTCφ.$\n",
    " \n",
    "In the last step, we defined $C≡1mXTX$. In statistics, if $X$ represents mean-centered data, then the matrix $C$ is also known as the <a href=\"https://en.wikipedia.org/wiki/Sample_mean_and_covariance\">sample covariance matrix</a> of the data.\n"
   ]
  },
  {
   "cell_type": "markdown",
   "metadata": {
    "collapsed": true
   },
   "source": [
    "__Principal components via maximizing projections.__ There are several ways to formulate the PCA problem. Here we consider the one based on <i>maximizing projections</i>.\n",
    "\n",
    "Start by defining a <i>principal component</i> of the data $X$ to be a vector, $φ$, of unit length that maximizes the sum of squared projections.\n",
    "\n",
    "To convert this definition into a formal problem, there is a technique known as the <i>method of Langrange multipliers</i>, which may be applied to any minimization or maximization problem that has equality constraints. The idea is to modify the cost function in a certain way that effectively incorporates each constraint: for each constraint you will add to the cost function a term proportional to a dummy parameter times some form of the constraint.\n",
    "\n",
    "Huh? It's easiest to see this formulation by example. In the case of a principal component, the modified cost function is\n",
    "$Ĵ (φ,λ)≡J(φ)+λ2(1−φTφ)$,\n",
    " \n",
    "where the second term captures the constraint: it introduces a dummy optimization parameter, $λ$, times the constraint that $φ$ has unit length, i.e., $‖φ‖22=φTφ=1$, or $1−φTφ=0$.\n",
    "\n",
    "The reason to add the constraint in this way should become clear momentarily.\n",
    "\n",
    "As before, the factor of \"1/2\" is there solely for aesthetic reasons and will \"cancel out,\" as you'll soon see.\n",
    "\n",
    "The optimization task is to find the $φ∗$ and $λ∗$ that maximize $Ĵ$:\n",
    "\n",
    "$(φ∗,λ∗)≡argmaxφ,λĴ (φ,λ).$\n",
    "\n",
    "To solve this optimization problem, you just need to \"take derivatives\" of $Ĵ$ with respect to $φ$ and $λ$, and then set these derivatives to 0."
   ]
  },
  {
   "cell_type": "markdown",
   "metadata": {
    "collapsed": true
   },
   "source": [
    "__Exercise (optional).__ Show that\n",
    "$∇φĴ ∂∂λĴ ==Cφ−λφ12(1−φTφ).$\n",
    " \n",
    "Setting these to zero and solving yields the following computational problem:\n",
    "$Cφ=1mXTXφ‖φ‖22==λφ1.$\n",
    "\n",
    "Is it now clear why the constraint was incorporated into $Ĵ$ as it was? Doing so produces a second equation that exactly captures the constraint!\n",
    "\n",
    "This problem is an <i>eigenproblem</i>, which is the task of computing an eigenvalue and its corresponding eigenvector of $C=1mXTX$.\n",
    "\n",
    "The matrix $C$ will usually have many eigenvalues and eigenvectors. So which one do you want? Plug the eigenvector back into the original cost function. Then, $J(φ)=12φTCφ=λ2φTφ=λ2$. In other words, to maximize $J(φ)$ you should pick the $φ$ with the largest eigenvalue $λ$."
   ]
  },
  {
   "cell_type": "markdown",
   "metadata": {
    "collapsed": true
   },
   "source": [
    "### Finding an eigenpair via the SVD\n",
    "So how do you find the eigenvectors of $C$? That is, what algorithm will compute them?\n",
    "\n",
    "One way is to form $C$ explicitly and then call an off-the-shelf eigensolver. However, forming $C$ explicitly from the data $X$ may be costly in time and storage, not to mention possibly less accurate. (Recall the condition number blow-up problem in the case of solving the normal equations.)\n",
    "\n",
    "Instead, we can turn to the \"Swiss Army knife\" of linear algebra, which is the singular value decomposition, or SVD. It is an extremely versatile tool for simplifying linear algebra problems. It can also be somewhat expensive to compute accurately, but a lot of scientific and engineering effort has gone into building robust and reasonably efficient SVD algorithms. So let's assume these exist -- and they do in both <a href=\"http://docs.scipy.org/doc/numpy/reference/generated/numpy.linalg.svd.html\">Numpy</a> and <a href=\"http://docs.scipy.org/doc/scipy/reference/generated/scipy.sparse.linalg.svds.html\">Scipy</a> -- and use them accordingly."
   ]
  },
  {
   "cell_type": "markdown",
   "metadata": {
    "collapsed": true
   },
   "source": [
    "__The SVD.__ Every real-valued matrix $X∈ℝm×d$ has a singular value decomposition. Let $s=min(m,d)$, i.e., the smaller of the number of rows or columns. Then the SVD of $X$ is the factorization, $X=UΣVT$, where $U$, $Σ$, and $VT$ are defined as follows.\n",
    "\n",
    "The matrices $U∈ℝm×s$ and $V∈ℝd×s$ are orthogonal matrices, meaning $UTU=I$ and $VTV=I$; and the matrix $Σ$ is an $s×s$ diagonal matrix.\n",
    "\n",
    "Note that $V$ is taken to be $d×s$, so that the $VT$ that appears in $UΣVT$ is $s×d$.\n",
    "\n",
    "The columns of $U$ are also known as the left singular vectors, and the columns of $V$ are the right singular vectors of $X$. Using our usual \"column-view\" of a matrix, these vectors are denoted by $ui$ and $vi$:\n",
    "\n",
    "$UV==[u0u1⋯us−1][v0v1⋯vs−1]$\n",
    " \n",
    "Regarding the diagonal matrix $Σ$, its entries are, collectively, called the singular values of $X$\n",
    "\n",
    "⎡⎣⎢⎢⎢⎢σ0σ1⋱σs−1⎤⎦⎥⎥⎥⎥.\n",
    "\n",
    "From these definitions, the SVD implies that $XV=UΣ$. This form is just a compact way of writing down a system of independent vector equations, $Xvi=σiui$.\n",
    "\n",
    "Recall that in PCA, you want to evaluate $C=1mXTX$. In terms of the SVD, $XTX=VΣTUTUΣVT=VΣ2VT$, or $XTXV=VΣ2$.\n",
    "\n",
    "This relation may in turn be rewritten as the system of vector equations, $XTXvi=σ2ivi$.\n",
    "\n",
    "In other words, every pair $(φ,λ)≡(vi,σ2im)$ is a potential solution to the eigenproblem, $Cφ=1mXTXφ=λφ$. The pair with the largest eigenvalue is $(v0,σ20m)$."
   ]
  },
  {
   "cell_type": "code",
   "execution_count": null,
   "metadata": {
    "collapsed": true
   },
   "outputs": [],
   "source": []
  },
  {
   "cell_type": "code",
   "execution_count": null,
   "metadata": {
    "collapsed": true
   },
   "outputs": [],
   "source": []
  },
  {
   "cell_type": "code",
   "execution_count": null,
   "metadata": {
    "collapsed": true
   },
   "outputs": [],
   "source": []
  },
  {
   "cell_type": "code",
   "execution_count": null,
   "metadata": {
    "collapsed": true
   },
   "outputs": [],
   "source": []
  },
  {
   "cell_type": "code",
   "execution_count": null,
   "metadata": {
    "collapsed": true
   },
   "outputs": [],
   "source": []
  },
  {
   "cell_type": "code",
   "execution_count": null,
   "metadata": {},
   "outputs": [],
   "source": [
    "from IPython.display import HTML\n",
    "HTML(filename='part0.html')"
   ]
  },
  {
   "cell_type": "code",
   "execution_count": null,
   "metadata": {
    "collapsed": true
   },
   "outputs": [],
   "source": []
  }
 ],
 "metadata": {
  "kernelspec": {
   "display_name": "Python 3",
   "language": "python",
   "name": "python3"
  },
  "language_info": {
   "codemirror_mode": {
    "name": "ipython",
    "version": 3
   },
   "file_extension": ".py",
   "mimetype": "text/x-python",
   "name": "python",
   "nbconvert_exporter": "python",
   "pygments_lexer": "ipython3",
   "version": "3.6.3"
  }
 },
 "nbformat": 4,
 "nbformat_minor": 2
}
